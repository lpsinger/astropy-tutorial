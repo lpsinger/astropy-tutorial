{
 "metadata": {
  "name": "astropy-boot-camp"
 },
 "nbformat": 3,
 "nbformat_minor": 0,
 "worksheets": [
  {
   "cells": [
    {
     "cell_type": "markdown",
     "metadata": {},
     "source": [
      "# BOOT CAMP\n",
      "![Astropy: A Community Python Library for Astronomy](http://www.astropy.org/_images/astropy_banner_96.png)\n",
      "\n",
      "**iPTF Workshop** | 12 August 2013 | **Leo Singer** [lsinger@caltech.edu](mailto:lsinger@caltech.edu) | California Insitute of Technology"
     ]
    },
    {
     "cell_type": "heading",
     "level": 1,
     "metadata": {},
     "source": [
      "I. Introduction"
     ]
    },
    {
     "cell_type": "markdown",
     "metadata": {},
     "source": [
      "This workshop is about doing astronomical data analysis with the [Python programming language](http://python.org/). **No previous experience with Python is necessary!**\n",
      "\n",
      "Python is a powerful tool, but it comes into its own as a numerical and data analysis environment with the following packages, which you will definitely want to have:\n",
      "\n",
      "* **[Matplotlib](http://matplotlib.org)**: plotting interactive or publication-quality figures\n",
      "* **[Numpy](http://numpy.org)**: vectorized arithmetic and linear algebra\n",
      "* **[Scipy](http://scipy.org)**: curated collection of algorithms for root finding, interpolation, integration, signal processing, statistics, linear algebra, and much more\n",
      "* **[IPython Notebook](http://ipython.org/notebook.html)**, the Mathematica-like interface that you are using now, and last but not least\n",
      "* **[Astropy](http://astropy.org/)**, the community library for astronomy.\n",
      "\n",
      "We'll cover the basics of Python itself and then dive in to some applications to explore each of these packages.\n",
      "\n",
      "Python is a very flexible, easy-to-learn, general-purpose programming language. The purest way of interacting with Python is via its command line interpreter, which looks like this:\n",
      "\n",
      "![A session in the Python command line interpreter](https://raw.github.com/lpsinger/astropy-tutorial/master/terminal.png)\n",
      "\n",
      "However, a relatively new but very powerful way of using Python is through the IPython Notebook interface, which like Mathematica allows you to intermingle computer code with generated plots..."
     ]
    },
    {
     "cell_type": "code",
     "collapsed": false,
     "input": [
      "x = np.linspace(0, 2 * np.pi)\n",
      "plt.plot(x, np.sin(x))\n",
      "plt.xlabel('ppm caffeine in bloodstream')\n",
      "plt.ylabel('cheeriness')"
     ],
     "language": "python",
     "metadata": {},
     "outputs": [
      {
       "output_type": "pyout",
       "prompt_number": 1,
       "text": [
        "<matplotlib.text.Text at 0x10e418b90>"
       ]
      },
      {
       "output_type": "display_data",
       "png": "[encoded data removed]"
      }
     ],
     "prompt_number": 1
    },
    {
     "cell_type": "markdown",
     "metadata": {},
     "source": [
      "and tables..."
     ]
    },
    {
     "cell_type": "code",
     "collapsed": false,
     "input": [
      "import astropy.table\n",
      "tbl = astropy.table.Table()\n",
      "tbl.add_column(astropy.table.Column(data=np.arange(5),\n",
      "    name='integers'))\n",
      "tbl.add_column(astropy.table.Column(data=np.arange(5)**2,\n",
      "    name='their squares'))\n",
      "tbl"
     ],
     "language": "python",
     "metadata": {},
     "outputs": [
      {
       "html": [
        "<table><tr><th>integers</th><th>their squares</th></tr><tr><td>0</td><td>0</td></tr><tr><td>1</td><td>1</td></tr><tr><td>2</td><td>4</td></tr><tr><td>3</td><td>9</td></tr><tr><td>4</td><td>16</td></tr></table>"
       ],
       "output_type": "pyout",
       "prompt_number": 2,
       "text": [
        "<Table rows=5 names=('integers','their squares')>\n",
        "array([(0, 0), (1, 1), (2, 4), (3, 9), (4, 16)], \n",
        "      dtype=[('integers', '<i8'), ('their squares', '<i8')])"
       ]
      }
     ],
     "prompt_number": 2
    },
    {
     "cell_type": "markdown",
     "metadata": {},
     "source": [
      "and even notes and typeset mathematics...\n",
      "\n",
      "> *And God said:*\n",
      ">\n",
      "> > $$\\nabla \\cdot \\mathbf{D} = \\rho$$\n",
      "> > $$\\nabla \\cdot \\mathbf{B} = 0$$\n",
      "> > $$\\nabla \\times \\mathbf{E} = -\\frac{\\partial\\mathbf{B}}{\\partial t}$$\n",
      "> > $$\\nabla \\times \\mathbf{H} = J + \\frac{\\partial\\mathbf{D}}{\\partial t}$$\n",
      ">\n",
      "> *and there was light.*\n",
      "\n",
      "This is all very useful for doing interactive data analysis, so we will use the IPython Notebook interface for this tutorial."
     ]
    },
    {
     "cell_type": "heading",
     "level": 1,
     "metadata": {},
     "source": [
      "II. How to get Python/Matplotlib/Numpy/Scipy"
     ]
    },
    {
     "cell_type": "markdown",
     "metadata": {},
     "source": [
      "Python and all of the packages that we discuss in this tutorial are open source software, so there multiple options for installing them.\n",
      "\n",
      "> **NOTE.** These instructions work for all packages except for Astropy, which is so new that it has not yet made it into many package managers. Special instructions for Astropy come in a moment.\n",
      "\n",
      "## For Linux/UNIX users\n",
      "\n",
      "If you have one of the common Linux/UNIX distros (for example, [Ubuntu](http://www.ubuntu.com), [Debian](http://debian.org), or [Fedora](http://fedoraproject.org)), then you probably already have Python and you can get Matplotlib and friends from your package manager.\n",
      "\n",
      "For example, on Debian or Ubuntu, use:\n",
      "\n",
      "    $ sudo apt-get install ipython-notebook python-matplotlib python-scipy python-pip\n",
      "\n",
      "## For Mac users\n",
      "\n",
      "Every version of Mac OS comes with a Python interpreter, but it's slightly easier to obtain Matplotlib and Numpy if you use a package manager such as [MacPorts](http://macports.org), [HomeBrew](http://brew.sh), or [Fink](http://fink.sf.net). I use MacPorts (and contribute to it, too), so that's what I suggest. Install MacPorts and then do:\n",
      "\n",
      "    $ sudo port install py27-pip py27-matplotlib py27-scipy py27-ipython +notebook\n",
      "\n",
      "## For Windows users\n",
      "\n",
      "Windows does not come with Python, but popular and free builds of Python for Windows include [Anaconda](https://store.continuum.io/cshop/anaconda/) and [Enthought Python Distribution](https://www.enthought.com/products/epd/free/). Another alternative for Windows is to set up a virtual machine with [VirtualBox](https://www.virtualbox.org) and then install a Linux distribution on that."
     ]
    },
    {
     "cell_type": "heading",
     "level": 1,
     "metadata": {},
     "source": [
      "III. How to get Astropy"
     ]
    },
    {
     "cell_type": "markdown",
     "metadata": {},
     "source": [
      "Astropy is a relatively young project, so of the above mentioned platforms, it has only so far been packaged for MacPorts (although there are experimental packages for Debian and Ubuntu). Luckily, it's easy to install [any Python package](https://pypi.python.org/) with [Pip](http://www.pip-installer.org/). Once you have your Python environment set up, you can install the latest stable version of Astropy (at this writing, version 0.2.4) with the following command:\n",
      "\n",
      "    $ pip install --user --no-deps astropy"
     ]
    }
   ],
   "metadata": {}
  }
 ]
}